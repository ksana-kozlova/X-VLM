{
  "cells": [
    {
      "cell_type": "code",
      "execution_count": 2,
      "metadata": {
        "id": "O5EdAV4MNEkM"
      },
      "outputs": [],
      "source": [
        "import torch\n",
        "import numpy as np\n",
        "from PIL import Image\n",
        "import pandas as pd"
      ]
    },
    {
      "cell_type": "code",
      "execution_count": 1,
      "metadata": {
        "colab": {
          "base_uri": "https://localhost:8080/"
        },
        "id": "VDCMmMX-NQMP",
        "outputId": "0524a945-dfc9-4879-f923-7c06ea837421"
      },
      "outputs": [
        {
          "output_type": "stream",
          "name": "stdout",
          "text": [
            "Cloning into 'X-VLM'...\n",
            "remote: Enumerating objects: 308, done.\u001b[K\n",
            "remote: Counting objects: 100% (45/45), done.\u001b[K\n",
            "remote: Compressing objects: 100% (4/4), done.\u001b[K\n",
            "remote: Total 308 (delta 41), reused 41 (delta 41), pack-reused 263\u001b[K\n",
            "Receiving objects: 100% (308/308), 12.46 MiB | 12.51 MiB/s, done.\n",
            "Resolving deltas: 100% (135/135), done.\n"
          ]
        }
      ],
      "source": [
        "!git clone https://github.com/ksana-kozlova/X-VLM.git"
      ]
    },
    {
      "cell_type": "code",
      "execution_count": 3,
      "metadata": {
        "id": "66j4j5VWNvCo",
        "colab": {
          "base_uri": "https://localhost:8080/"
        },
        "outputId": "06ea33e7-6a8a-4929-e329-ee82bb4fe258"
      },
      "outputs": [
        {
          "output_type": "stream",
          "name": "stdout",
          "text": [
            "Mounted at /content/drive\n"
          ]
        }
      ],
      "source": [
        "from google.colab import drive\n",
        "drive.mount('/content/drive')"
      ]
    },
    {
      "cell_type": "code",
      "execution_count": 4,
      "metadata": {
        "colab": {
          "base_uri": "https://localhost:8080/"
        },
        "id": "-miLm1c9Nz2g",
        "outputId": "122dff00-97d4-4fad-e8af-63d345b6877d"
      },
      "outputs": [
        {
          "output_type": "stream",
          "name": "stdout",
          "text": [
            "/content\n"
          ]
        }
      ],
      "source": [
        "% cd /content\n",
        "! mkdir -p /content/X-VLM/data/ /content/X-VLM/images/ \n",
        "#! cp /content/drive/MyDrive/ImageCaptioning/caption_base_best.pt OFA/checkpoints/"
      ]
    },
    {
      "cell_type": "code",
      "execution_count": 5,
      "metadata": {
        "colab": {
          "base_uri": "https://localhost:8080/",
          "height": 1000
        },
        "id": "9tmeWKoPvPwC",
        "outputId": "3ef2b52e-0ab6-43a6-da86-650f2a2c4a6c"
      },
      "outputs": [
        {
          "output_type": "stream",
          "name": "stdout",
          "text": [
            "/content/X-VLM\n",
            "Looking in indexes: https://pypi.org/simple, https://us-python.pkg.dev/colab-wheels/public/simple/\n",
            "Collecting timm==0.4.9\n",
            "  Downloading timm-0.4.9-py3-none-any.whl (346 kB)\n",
            "\u001b[K     |████████████████████████████████| 346 kB 4.1 MB/s \n",
            "\u001b[?25hCollecting transformers==4.12.5\n",
            "  Downloading transformers-4.12.5-py3-none-any.whl (3.1 MB)\n",
            "\u001b[K     |████████████████████████████████| 3.1 MB 91.2 MB/s \n",
            "\u001b[?25hCollecting ruamel_yaml\n",
            "  Downloading ruamel.yaml-0.17.21-py3-none-any.whl (109 kB)\n",
            "\u001b[K     |████████████████████████████████| 109 kB 91.5 MB/s \n",
            "\u001b[?25hRequirement already satisfied: opencv-python in /usr/local/lib/python3.7/dist-packages (from -r requirements.txt (line 4)) (4.1.2.30)\n",
            "Requirement already satisfied: scikit-image in /usr/local/lib/python3.7/dist-packages (from -r requirements.txt (line 5)) (0.18.3)\n",
            "Requirement already satisfied: matplotlib in /usr/local/lib/python3.7/dist-packages (from -r requirements.txt (line 6)) (3.2.2)\n",
            "Collecting torch==1.7.1\n",
            "  Downloading torch-1.7.1-cp37-cp37m-manylinux1_x86_64.whl (776.8 MB)\n",
            "\u001b[K     |████████████████████████████████| 776.8 MB 16 kB/s \n",
            "\u001b[?25hCollecting torchvision==0.8.2\n",
            "  Downloading torchvision-0.8.2-cp37-cp37m-manylinux1_x86_64.whl (12.8 MB)\n",
            "\u001b[K     |████████████████████████████████| 12.8 MB 30.4 MB/s \n",
            "\u001b[?25hRequirement already satisfied: pycocotools in /usr/local/lib/python3.7/dist-packages (from -r requirements.txt (line 9)) (2.0.4)\n",
            "Collecting pycocoevalcap\n",
            "  Downloading pycocoevalcap-1.2-py3-none-any.whl (104.3 MB)\n",
            "\u001b[K     |████████████████████████████████| 104.3 MB 115 kB/s \n",
            "\u001b[?25hRequirement already satisfied: filelock in /usr/local/lib/python3.7/dist-packages (from transformers==4.12.5->-r requirements.txt (line 2)) (3.7.0)\n",
            "Collecting tokenizers<0.11,>=0.10.1\n",
            "  Downloading tokenizers-0.10.3-cp37-cp37m-manylinux_2_5_x86_64.manylinux1_x86_64.manylinux_2_12_x86_64.manylinux2010_x86_64.whl (3.3 MB)\n",
            "\u001b[K     |████████████████████████████████| 3.3 MB 16.9 MB/s \n",
            "\u001b[?25hCollecting huggingface-hub<1.0,>=0.1.0\n",
            "  Downloading huggingface_hub-0.7.0-py3-none-any.whl (86 kB)\n",
            "\u001b[K     |████████████████████████████████| 86 kB 6.4 MB/s \n",
            "\u001b[?25hCollecting pyyaml>=5.1\n",
            "  Downloading PyYAML-6.0-cp37-cp37m-manylinux_2_5_x86_64.manylinux1_x86_64.manylinux_2_12_x86_64.manylinux2010_x86_64.whl (596 kB)\n",
            "\u001b[K     |████████████████████████████████| 596 kB 85.0 MB/s \n",
            "\u001b[?25hRequirement already satisfied: tqdm>=4.27 in /usr/local/lib/python3.7/dist-packages (from transformers==4.12.5->-r requirements.txt (line 2)) (4.64.0)\n",
            "Requirement already satisfied: numpy>=1.17 in /usr/local/lib/python3.7/dist-packages (from transformers==4.12.5->-r requirements.txt (line 2)) (1.21.6)\n",
            "Collecting sacremoses\n",
            "  Downloading sacremoses-0.0.53.tar.gz (880 kB)\n",
            "\u001b[K     |████████████████████████████████| 880 kB 87.8 MB/s \n",
            "\u001b[?25hRequirement already satisfied: regex!=2019.12.17 in /usr/local/lib/python3.7/dist-packages (from transformers==4.12.5->-r requirements.txt (line 2)) (2019.12.20)\n",
            "Requirement already satisfied: packaging>=20.0 in /usr/local/lib/python3.7/dist-packages (from transformers==4.12.5->-r requirements.txt (line 2)) (21.3)\n",
            "Requirement already satisfied: importlib-metadata in /usr/local/lib/python3.7/dist-packages (from transformers==4.12.5->-r requirements.txt (line 2)) (4.11.4)\n",
            "Requirement already satisfied: requests in /usr/local/lib/python3.7/dist-packages (from transformers==4.12.5->-r requirements.txt (line 2)) (2.23.0)\n",
            "Requirement already satisfied: typing-extensions in /usr/local/lib/python3.7/dist-packages (from torch==1.7.1->-r requirements.txt (line 7)) (4.2.0)\n",
            "Requirement already satisfied: pillow>=4.1.1 in /usr/local/lib/python3.7/dist-packages (from torchvision==0.8.2->-r requirements.txt (line 8)) (7.1.2)\n",
            "Requirement already satisfied: pyparsing!=3.0.5,>=2.0.2 in /usr/local/lib/python3.7/dist-packages (from packaging>=20.0->transformers==4.12.5->-r requirements.txt (line 2)) (3.0.9)\n",
            "Collecting ruamel.yaml.clib>=0.2.6\n",
            "  Downloading ruamel.yaml.clib-0.2.6-cp37-cp37m-manylinux1_x86_64.whl (546 kB)\n",
            "\u001b[K     |████████████████████████████████| 546 kB 34.9 MB/s \n",
            "\u001b[?25hRequirement already satisfied: PyWavelets>=1.1.1 in /usr/local/lib/python3.7/dist-packages (from scikit-image->-r requirements.txt (line 5)) (1.3.0)\n",
            "Requirement already satisfied: networkx>=2.0 in /usr/local/lib/python3.7/dist-packages (from scikit-image->-r requirements.txt (line 5)) (2.6.3)\n",
            "Requirement already satisfied: imageio>=2.3.0 in /usr/local/lib/python3.7/dist-packages (from scikit-image->-r requirements.txt (line 5)) (2.4.1)\n",
            "Requirement already satisfied: tifffile>=2019.7.26 in /usr/local/lib/python3.7/dist-packages (from scikit-image->-r requirements.txt (line 5)) (2021.11.2)\n",
            "Requirement already satisfied: scipy>=1.0.1 in /usr/local/lib/python3.7/dist-packages (from scikit-image->-r requirements.txt (line 5)) (1.4.1)\n",
            "Requirement already satisfied: python-dateutil>=2.1 in /usr/local/lib/python3.7/dist-packages (from matplotlib->-r requirements.txt (line 6)) (2.8.2)\n",
            "Requirement already satisfied: kiwisolver>=1.0.1 in /usr/local/lib/python3.7/dist-packages (from matplotlib->-r requirements.txt (line 6)) (1.4.2)\n",
            "Requirement already satisfied: cycler>=0.10 in /usr/local/lib/python3.7/dist-packages (from matplotlib->-r requirements.txt (line 6)) (0.11.0)\n",
            "Requirement already satisfied: six>=1.5 in /usr/local/lib/python3.7/dist-packages (from python-dateutil>=2.1->matplotlib->-r requirements.txt (line 6)) (1.15.0)\n",
            "Requirement already satisfied: zipp>=0.5 in /usr/local/lib/python3.7/dist-packages (from importlib-metadata->transformers==4.12.5->-r requirements.txt (line 2)) (3.8.0)\n",
            "Requirement already satisfied: urllib3!=1.25.0,!=1.25.1,<1.26,>=1.21.1 in /usr/local/lib/python3.7/dist-packages (from requests->transformers==4.12.5->-r requirements.txt (line 2)) (1.24.3)\n",
            "Requirement already satisfied: chardet<4,>=3.0.2 in /usr/local/lib/python3.7/dist-packages (from requests->transformers==4.12.5->-r requirements.txt (line 2)) (3.0.4)\n",
            "Requirement already satisfied: idna<3,>=2.5 in /usr/local/lib/python3.7/dist-packages (from requests->transformers==4.12.5->-r requirements.txt (line 2)) (2.10)\n",
            "Requirement already satisfied: certifi>=2017.4.17 in /usr/local/lib/python3.7/dist-packages (from requests->transformers==4.12.5->-r requirements.txt (line 2)) (2022.5.18.1)\n",
            "Requirement already satisfied: click in /usr/local/lib/python3.7/dist-packages (from sacremoses->transformers==4.12.5->-r requirements.txt (line 2)) (7.1.2)\n",
            "Requirement already satisfied: joblib in /usr/local/lib/python3.7/dist-packages (from sacremoses->transformers==4.12.5->-r requirements.txt (line 2)) (1.1.0)\n",
            "Building wheels for collected packages: sacremoses\n",
            "  Building wheel for sacremoses (setup.py) ... \u001b[?25l\u001b[?25hdone\n",
            "  Created wheel for sacremoses: filename=sacremoses-0.0.53-py3-none-any.whl size=895260 sha256=a95b1a2f100c54838222ea82d6775e91c08076c5e4ab1157a5fa98f819973538\n",
            "  Stored in directory: /root/.cache/pip/wheels/87/39/dd/a83eeef36d0bf98e7a4d1933a4ad2d660295a40613079bafc9\n",
            "Successfully built sacremoses\n",
            "Installing collected packages: torch, pyyaml, torchvision, tokenizers, sacremoses, ruamel.yaml.clib, huggingface-hub, transformers, timm, ruamel-yaml, pycocoevalcap\n",
            "  Attempting uninstall: torch\n",
            "    Found existing installation: torch 1.11.0+cu113\n",
            "    Uninstalling torch-1.11.0+cu113:\n",
            "      Successfully uninstalled torch-1.11.0+cu113\n",
            "  Attempting uninstall: pyyaml\n",
            "    Found existing installation: PyYAML 3.13\n",
            "    Uninstalling PyYAML-3.13:\n",
            "      Successfully uninstalled PyYAML-3.13\n",
            "  Attempting uninstall: torchvision\n",
            "    Found existing installation: torchvision 0.12.0+cu113\n",
            "    Uninstalling torchvision-0.12.0+cu113:\n",
            "      Successfully uninstalled torchvision-0.12.0+cu113\n",
            "\u001b[31mERROR: pip's dependency resolver does not currently take into account all the packages that are installed. This behaviour is the source of the following dependency conflicts.\n",
            "torchtext 0.12.0 requires torch==1.11.0, but you have torch 1.7.1 which is incompatible.\n",
            "torchaudio 0.11.0+cu113 requires torch==1.11.0, but you have torch 1.7.1 which is incompatible.\u001b[0m\n",
            "Successfully installed huggingface-hub-0.7.0 pycocoevalcap-1.2 pyyaml-6.0 ruamel-yaml-0.17.21 ruamel.yaml.clib-0.2.6 sacremoses-0.0.53 timm-0.4.9 tokenizers-0.10.3 torch-1.7.1 torchvision-0.8.2 transformers-4.12.5\n"
          ]
        },
        {
          "output_type": "display_data",
          "data": {
            "application/vnd.colab-display-data+json": {
              "pip_warning": {
                "packages": [
                  "torch"
                ]
              }
            }
          },
          "metadata": {}
        }
      ],
      "source": [
        "% cd /content/X-VLM/\n",
        "!pip install -r requirements.txt"
      ]
    },
    {
      "cell_type": "code",
      "execution_count": 6,
      "metadata": {
        "colab": {
          "base_uri": "https://localhost:8080/"
        },
        "id": "6dxmlYunx8l7",
        "outputId": "08670b3e-d1ea-4e6a-a0df-6347d4e15e61"
      },
      "outputs": [
        {
          "output_type": "stream",
          "name": "stdout",
          "text": [
            "Looking in indexes: https://pypi.org/simple, https://us-python.pkg.dev/colab-wheels/public/simple/\n",
            "Collecting wget\n",
            "  Downloading wget-3.2.zip (10 kB)\n",
            "Building wheels for collected packages: wget\n",
            "  Building wheel for wget (setup.py) ... \u001b[?25l\u001b[?25hdone\n",
            "  Created wheel for wget: filename=wget-3.2-py3-none-any.whl size=9675 sha256=13aac644a70540bd12382ea32ff305c1de06988bf06b706949a82d811397e3bc\n",
            "  Stored in directory: /root/.cache/pip/wheels/a1/b6/7c/0e63e34eb06634181c63adacca38b79ff8f35c37e3c13e3c02\n",
            "Successfully built wget\n",
            "Installing collected packages: wget\n",
            "Successfully installed wget-3.2\n"
          ]
        }
      ],
      "source": [
        "!pip install wget"
      ]
    },
    {
      "cell_type": "code",
      "execution_count": 7,
      "metadata": {
        "id": "O8Y5znXKEE1U"
      },
      "outputs": [],
      "source": [
        "import wget\n",
        "import zipfile"
      ]
    },
    {
      "cell_type": "code",
      "execution_count": 8,
      "metadata": {
        "colab": {
          "base_uri": "https://localhost:8080/"
        },
        "id": "Nh3lxFw432dM",
        "outputId": "f352e823-af9f-400f-d56f-55230de22ad8"
      },
      "outputs": [
        {
          "output_type": "stream",
          "name": "stdout",
          "text": [
            "/content\n"
          ]
        }
      ],
      "source": [
        "% cd /content\n",
        "! mkdir -p /content/X-VLM/images/flickr8k-images/"
      ]
    },
    {
      "cell_type": "markdown",
      "source": [
        "Best checkpoints you can download from https://drive.google.com/file/d/18ZCPAEU2rde4J3xFM5pw5rviXTWZy85h/view?usp=sharing "
      ],
      "metadata": {
        "id": "XyD0mqoixu9S"
      }
    },
    {
      "cell_type": "code",
      "execution_count": 9,
      "metadata": {
        "id": "L81z25GH4AqO"
      },
      "outputs": [],
      "source": [
        "! mkdir -p /content/X-VLM/4m_base_finetune/flickr8k_caption/\n",
        "! cp /content/drive/MyDrive/ImageCaptioning/4m_base_model_state_step_199999.th /content/X-VLM/4m_base_finetune/flickr8k_caption/"
      ]
    },
    {
      "cell_type": "code",
      "execution_count": null,
      "metadata": {
        "colab": {
          "base_uri": "https://localhost:8080/",
          "height": 52
        },
        "id": "dj1mfxxm60YN",
        "outputId": "4a782805-8f00-46cc-c361-05f39982d743"
      },
      "outputs": [
        {
          "output_type": "stream",
          "name": "stdout",
          "text": [
            "/content\n"
          ]
        },
        {
          "output_type": "execute_result",
          "data": {
            "text/plain": [
              "'caption_datasets.zip'"
            ],
            "application/vnd.google.colaboratory.intrinsic+json": {
              "type": "string"
            }
          },
          "metadata": {},
          "execution_count": 13
        }
      ],
      "source": [
        "% cd /content/\n",
        "url = 'http://cs.stanford.edu/people/karpathy/deepimagesent/caption_datasets.zip'\n",
        "wget.download(url)"
      ]
    },
    {
      "cell_type": "code",
      "execution_count": null,
      "metadata": {
        "id": "DF2VBC2a7csM"
      },
      "outputs": [],
      "source": [
        "archive = 'caption_datasets.zip'\n",
        "with zipfile.ZipFile(archive, 'r') as zip_file:\n",
        "    zip_file.extractall()"
      ]
    },
    {
      "cell_type": "markdown",
      "source": [
        "This archiv of dataset you can download from https://www.kaggle.com/datasets/adityajn105/flickr8k\n",
        "\n",
        "And captions.txt also"
      ],
      "metadata": {
        "id": "NlHZkJ91w68g"
      }
    },
    {
      "cell_type": "code",
      "execution_count": 10,
      "metadata": {
        "colab": {
          "base_uri": "https://localhost:8080/"
        },
        "id": "_iuaeCDdD926",
        "outputId": "cf00c161-502e-461b-a5cf-82ccaa0a4b04"
      },
      "outputs": [
        {
          "output_type": "stream",
          "name": "stdout",
          "text": [
            "/content\n"
          ]
        }
      ],
      "source": [
        "% cd /content/\n",
        "archive = '/content/drive/MyDrive/flickr.zip'\n",
        "with zipfile.ZipFile(archive, 'r') as zip_file:\n",
        "    zip_file.extractall()"
      ]
    },
    {
      "cell_type": "code",
      "execution_count": 11,
      "metadata": {
        "id": "hKU4HYef0YUn"
      },
      "outputs": [],
      "source": [
        "! cp -r /content/Images/. /content/X-VLM/images/flickr8k-images"
      ]
    },
    {
      "cell_type": "code",
      "source": [
        "!rm -rf /content/X-VLM/images/flickr8k-images/Images"
      ],
      "metadata": {
        "id": "HZhiufDZtidI"
      },
      "execution_count": 12,
      "outputs": []
    },
    {
      "cell_type": "code",
      "execution_count": 13,
      "metadata": {
        "id": "L_46S8ocjFOw"
      },
      "outputs": [],
      "source": [
        "!cp /content/drive/MyDrive/ImageCaptioning/finetune.tar /content/\n",
        "!tar -xf /content/finetune.tar"
      ]
    },
    {
      "cell_type": "code",
      "execution_count": 14,
      "metadata": {
        "id": "MFyrN0WHnCZY"
      },
      "outputs": [],
      "source": [
        "!cp -r /content/finetune /content/X-VLM/data/"
      ]
    },
    {
      "cell_type": "code",
      "execution_count": 15,
      "metadata": {
        "id": "1Lkf511xomN6"
      },
      "outputs": [],
      "source": [
        "!rm -rf /content/X-VLM/finetune/"
      ]
    },
    {
      "cell_type": "markdown",
      "source": [
        "Code for creating json files for images\n",
        "\n",
        "Below you can download ready json files"
      ],
      "metadata": {
        "id": "OUhw8n6QsMeK"
      }
    },
    {
      "cell_type": "code",
      "execution_count": null,
      "metadata": {
        "id": "kufG7T-mMWKl"
      },
      "outputs": [],
      "source": [
        "import json"
      ]
    },
    {
      "cell_type": "code",
      "execution_count": null,
      "metadata": {
        "colab": {
          "base_uri": "https://localhost:8080/"
        },
        "id": "G4ooWJktRIUf",
        "outputId": "1df0ae05-44e1-4e0e-e682-f85ffb417723"
      },
      "outputs": [
        {
          "name": "stdout",
          "output_type": "stream",
          "text": [
            "image,caption\n",
            "\n"
          ]
        }
      ],
      "source": [
        "images = []\n",
        "old_name = \"\"\n",
        "captions = []\n",
        "with open(\"/content/captions.txt\") as file:\n",
        "    print(file.readline())\n",
        "    for line in file:\n",
        "      img = line.split(\",\")\n",
        "      if img[0] != old_name and old_name != \"\":\n",
        "        images.append({\"caption\": captions, \"image\": old_name, \"image_id\": old_name[:-4]})\n",
        "        captions = []\n",
        "      old_name = img[0]\n",
        "      captions.append(img[1][:-3] + \".\")"
      ]
    },
    {
      "cell_type": "code",
      "execution_count": null,
      "metadata": {
        "colab": {
          "base_uri": "https://localhost:8080/"
        },
        "id": "r7FHC7Zr28ZI",
        "outputId": "4d68fae7-4cf5-45c1-b94d-7783d8295c82"
      },
      "outputs": [
        {
          "output_type": "stream",
          "name": "stdout",
          "text": [
            "/content\n"
          ]
        }
      ],
      "source": [
        "% cd /content/"
      ]
    },
    {
      "cell_type": "code",
      "execution_count": null,
      "metadata": {
        "id": "PpVD_WR7A0DI"
      },
      "outputs": [],
      "source": [
        "train_json = images[:6090]\n",
        "for x in train_json:\n",
        "  x[\"caption\"] = x[\"caption\"][0]"
      ]
    },
    {
      "cell_type": "code",
      "execution_count": null,
      "metadata": {
        "colab": {
          "base_uri": "https://localhost:8080/"
        },
        "id": "berMfK8wJmzO",
        "outputId": "5b3bb2c3-9dbf-4735-f524-ba907787e075"
      },
      "outputs": [
        {
          "name": "stdout",
          "output_type": "stream",
          "text": [
            "caption Four children on stools in a diner.\n"
          ]
        }
      ],
      "source": [
        "for x in train_json:\n",
        "  if x['image_id'] == '3025549604_38b86198f5':\n",
        "    print(\"caption\", x['caption'])"
      ]
    },
    {
      "cell_type": "code",
      "execution_count": null,
      "metadata": {
        "id": "Iz7SS1HgVYhe"
      },
      "outputs": [],
      "source": [
        "with open(\"flickr8k_train.json\", \"w\") as write_file:\n",
        "    json.dump(train_json, write_file)\n",
        "\n",
        "with open(\"flickr8k_val.json\", \"w\") as write_file:\n",
        "    json.dump(images[6090:7090], write_file)\n",
        "\n",
        "with open(\"flickr8k_test.json\", \"w\") as write_file:\n",
        "    json.dump(images[7090:8090], write_file)"
      ]
    },
    {
      "cell_type": "code",
      "execution_count": null,
      "metadata": {
        "id": "AmLLXlDrWl3n"
      },
      "outputs": [],
      "source": [
        "!cp /content/flickr8k_test.json /content/drive/MyDrive/ImageCaptioning/\n",
        "!cp /content/flickr8k_train.json /content/drive/MyDrive/ImageCaptioning/\n",
        "!cp /content/flickr8k_val.json /content/drive/MyDrive/ImageCaptioning/"
      ]
    },
    {
      "cell_type": "code",
      "execution_count": 16,
      "metadata": {
        "id": "44FMgdAkW0w7"
      },
      "outputs": [],
      "source": [
        "!cp /content/drive/MyDrive/ImageCaptioning/flickr8k_test.json /content/X-VLM/data/finetune\n",
        "!cp /content/drive/MyDrive/ImageCaptioning/flickr8k_train.json /content/X-VLM/data/finetune\n",
        "!cp /content/drive/MyDrive/ImageCaptioning/flickr8k_val.json /content/X-VLM/data/finetune"
      ]
    },
    {
      "cell_type": "code",
      "execution_count": null,
      "metadata": {
        "id": "jv2k5BKw8QqB"
      },
      "outputs": [],
      "source": [
        "device = torch.device(\"cuda\" if torch.cuda.is_available() else \"cpu\")"
      ]
    },
    {
      "cell_type": "code",
      "execution_count": null,
      "metadata": {
        "colab": {
          "base_uri": "https://localhost:8080/"
        },
        "id": "LpSYcqf8DTUc",
        "outputId": "8cadfaff-4b18-4bfd-8dd5-d1e692e437cc"
      },
      "outputs": [
        {
          "output_type": "execute_result",
          "data": {
            "text/plain": [
              "1"
            ]
          },
          "metadata": {},
          "execution_count": 23
        }
      ],
      "source": [
        "torch.cuda.device_count()"
      ]
    },
    {
      "cell_type": "code",
      "execution_count": 17,
      "metadata": {
        "id": "vtUsykCZXGf4"
      },
      "outputs": [],
      "source": [
        "!mkdir -p /content/X-VLM/output/flickr8k_captioning/"
      ]
    },
    {
      "cell_type": "code",
      "execution_count": 19,
      "metadata": {
        "colab": {
          "base_uri": "https://localhost:8080/"
        },
        "id": "hGCEJmqD6bA6",
        "outputId": "9fc1741f-1099-40cf-a1f1-f88ae0c2555f"
      },
      "outputs": [
        {
          "output_type": "stream",
          "name": "stdout",
          "text": [
            "/content/X-VLM\n",
            "NNODES,  1\n",
            "NPROC_PER_NODE,  1\n",
            "MASTER_ADDR,  SET_IT\n",
            "MASTER_PORT,  12345\n",
            "NODE_RANK,  0\n",
            "### warning: the settings for distributed training is not filled (ignore this if you only use one node)\n",
            "### warning: you have not set the path to hadoop_bin (ignore this if you don't use HDFS)\n",
            "### Training Flickr8k Captioning\n",
            "| distributed init (rank 0): env://\n",
            "Creating captioning dataset\n",
            "### data 6090, batch size, 8 x 1\n",
            "Creating model\n",
            "### Loading pretrained vision encoder\n",
            "### Loading pretrained text encoder\n",
            "load_capt_pretrain,  True\n",
            "load checkpoint from /content/drive/MyDrive/ImageCaptioning/model_state_epoch_14.th\n",
            "missing_keys:  []\n",
            "unexpected_keys:  []\n",
            "### Total Params:  212935602\n",
            "### output_dir,  output/flickr8k_captioning\n",
            "### output_hdfs,  \n",
            "Start training\n",
            "### lr_mult,  2\n",
            "### model has 'init_params',  0\n",
            "### num_training_steps,  762\n",
            "### num_warmup_steps,  76\n",
            "Train Epoch: [0] [  0/761]  eta: 0:20:04  lr: 0.000000  loss: 3.31935  time: 1.5830  data: 0.4957  max mem: 9598\n",
            "Train Epoch: [0] [ 50/761]  eta: 0:08:43  lr: 0.000007  loss: 3.20513  time: 0.7181  data: 0.0001  max mem: 11853\n",
            "Train Epoch: [0] [100/761]  eta: 0:08:00  lr: 0.000010  loss: 2.71850  time: 0.7178  data: 0.0001  max mem: 11853\n",
            "Train Epoch: [0] [150/761]  eta: 0:07:22  lr: 0.000009  loss: 3.01968  time: 0.7184  data: 0.0001  max mem: 11853\n",
            "Train Epoch: [0] [200/761]  eta: 0:06:45  lr: 0.000008  loss: 3.24555  time: 0.7188  data: 0.0001  max mem: 11853\n",
            "Train Epoch: [0] [250/761]  eta: 0:06:09  lr: 0.000007  loss: 3.16242  time: 0.7188  data: 0.0001  max mem: 11863\n",
            "Train Epoch: [0] [300/761]  eta: 0:05:32  lr: 0.000007  loss: 3.06786  time: 0.7174  data: 0.0001  max mem: 11863\n",
            "Train Epoch: [0] [350/761]  eta: 0:04:56  lr: 0.000006  loss: 3.15691  time: 0.7190  data: 0.0001  max mem: 11863\n",
            "Train Epoch: [0] [400/761]  eta: 0:04:20  lr: 0.000005  loss: 3.12451  time: 0.7187  data: 0.0001  max mem: 11863\n",
            "Train Epoch: [0] [500/761]  eta: 0:03:08  lr: 0.000004  loss: 3.14296  time: 0.7183  data: 0.0001  max mem: 11874\n",
            "Train Epoch: [0] [550/761]  eta: 0:02:31  lr: 0.000003  loss: 2.89999  time: 0.7185  data: 0.0001  max mem: 11874\n",
            "Train Epoch: [0] [600/761]  eta: 0:01:55  lr: 0.000002  loss: 2.70292  time: 0.7179  data: 0.0001  max mem: 11874\n",
            "Train Epoch: [0] [650/761]  eta: 0:01:19  lr: 0.000002  loss: 3.28405  time: 0.7190  data: 0.0001  max mem: 11874\n",
            "Train Epoch: [0] [700/761]  eta: 0:00:43  lr: 0.000001  loss: 3.38934  time: 0.7200  data: 0.0001  max mem: 11912\n",
            "Train Epoch: [0] [750/761]  eta: 0:00:07  lr: 0.000000  loss: 2.69195  time: 0.7182  data: 0.0001  max mem: 11912\n",
            "Train Epoch: [0] [760/761]  eta: 0:00:00  lr: 0.000000  loss: 2.87815  time: 0.7186  data: 0.0001  max mem: 11912\n",
            "Train Epoch: [0] Total time: 0:09:07 (0.7199 s / it)\n",
            "Averaged stats: lr: 0.0000  loss: 3.1014\n",
            "Caption generation: [  0/125]  eta: 0:02:35    time: 1.2468  data: 0.5569  max mem: 11912\n",
            "Caption generation: [ 50/125]  eta: 0:00:46    time: 0.6044  data: 0.0001  max mem: 11912\n",
            "Caption generation: [100/125]  eta: 0:00:15    time: 0.6091  data: 0.0001  max mem: 11912\n",
            "Caption generation: [124/125]  eta: 0:00:00    time: 0.6081  data: 0.0001  max mem: 11912\n",
            "Caption generation: Total time: 0:01:16 (0.6137 s / it)\n",
            "result file saved to output/flickr8k_captioning/result/test_epoch0.json\n",
            "BLEU score:  0.26279590681556736\n",
            "{\"train_lr\": \"0.00001\", \"train_loss\": \"3.10135\", \"epoch\": 0}\n",
            "### Time 0:10:33\n"
          ]
        }
      ],
      "source": [
        "% cd /content/X-VLM/\n",
        "!python run.py --task \"flickr8k_captioning\" --dist \"1\" --output_dir \"output/flickr8k_captioning\" --checkpoint '/content/drive/MyDrive/ImageCaptioning/model_state_epoch_14.th' #\"/content/drive/MyDrive/ImageCaptioning/4m_base_model_state_step_199999.th\" # \"/content/drive/MyDrive/ImageCaptioning/4m_base_model_state_step_199999.th\""
      ]
    },
    {
      "cell_type": "code",
      "source": [
        "import json\n",
        "import re\n",
        "from torchtext.data.metrics import bleu_score\n",
        "from nltk.translate.bleu_score import corpus_bleu"
      ],
      "metadata": {
        "id": "weFV7btqLh5z"
      },
      "execution_count": null,
      "outputs": []
    },
    {
      "cell_type": "markdown",
      "source": [
        "Code for calculate BLEU-4"
      ],
      "metadata": {
        "id": "l5vYy8BUsqoB"
      }
    },
    {
      "cell_type": "code",
      "source": [
        "def pre_caption(caption, max_words):\n",
        "    caption = re.sub(\n",
        "        r\"([,.'!?\\\"()*#:;~])\",\n",
        "        '',\n",
        "        caption.lower(),\n",
        "    ).replace('-', ' ').replace('/', ' ').replace('<person>', 'person')\n",
        "\n",
        "    caption = re.sub(\n",
        "        r\"\\s{2,}\",\n",
        "        ' ',\n",
        "        caption,\n",
        "    )\n",
        "    caption = caption.rstrip('\\n')\n",
        "    caption = caption.strip(' ')\n",
        "\n",
        "    # truncate caption\n",
        "    caption_words = caption.split(' ')\n",
        "    if len(caption_words) > max_words:\n",
        "        caption = ' '.join(caption_words[:max_words])\n",
        "\n",
        "    return caption"
      ],
      "metadata": {
        "id": "x9fImDC2PwAy"
      },
      "execution_count": null,
      "outputs": []
    },
    {
      "cell_type": "code",
      "source": [
        "def bleu_scorer(reference_file, output_file):\n",
        "    #processing output\n",
        "    out_data = {}\n",
        "    out_list = []\n",
        "    with open(output_file) as json_file:\n",
        "      data = json.load(json_file)\n",
        "      for x in data:\n",
        "        out_data[x['image_id']] = x[\"caption\"]\n",
        "        out_list.append(pre_caption(x[\"caption\"], 40).split())\n",
        "    #print(out_list)\n",
        "    ref_data = {}\n",
        "    ref_list = []\n",
        "    with open(reference_file) as json_file:\n",
        "      data = json.load(json_file)\n",
        "      for x in data:\n",
        "        pre_capt = x[\"caption\"]\n",
        "        captions = []\n",
        "        for cap in pre_capt:\n",
        "          captions.append(pre_caption(cap, 40).split())\n",
        "        #print(captions)\n",
        "        ref_data[x['image_id'].split(\"_\")[0]] = captions\n",
        "        ref_list.append(captions)\n",
        "    #print(ref_list)\n",
        "    #print(out_list)\n",
        "    return corpus_bleu(ref_list, out_list)"
      ],
      "metadata": {
        "id": "cWSWEKrcIrld"
      },
      "execution_count": null,
      "outputs": []
    },
    {
      "cell_type": "code",
      "source": [
        "print(bleu_scorer(\"/content/X-VLM/data/finetune/flickr8k_test.json\", \"/content/X-VLM/output/flickr8k_captioning/result/test_epoch4.json\"))"
      ],
      "metadata": {
        "colab": {
          "base_uri": "https://localhost:8080/"
        },
        "id": "x3vYy7ROLY41",
        "outputId": "c3851747-73f3-4e1f-9c98-9ead9a7e1c1a"
      },
      "execution_count": null,
      "outputs": [
        {
          "output_type": "stream",
          "name": "stdout",
          "text": [
            "0.2861926194230359\n"
          ]
        }
      ]
    },
    {
      "cell_type": "code",
      "source": [
        "!cp /content/X-VLM/output/flickr8k_captioning/model_state_epoch_14.th /content/drive/MyDrive/ImageCaptioning/"
      ],
      "metadata": {
        "id": "_De8BQlrKhWd"
      },
      "execution_count": null,
      "outputs": []
    },
    {
      "cell_type": "code",
      "source": [
        "!cp /content/X-VLM/output/flickr8k_captioning/training_state_latest.th /content/drive/MyDrive/ImageCaptioning/"
      ],
      "metadata": {
        "id": "nMaxuBsA78nT"
      },
      "execution_count": null,
      "outputs": []
    },
    {
      "cell_type": "code",
      "source": [
        "!cp /content/X-VLM/output/flickr8k_captioning/model_state_epoch_4.th /content/drive/MyDrive/ImageCaptioning/"
      ],
      "metadata": {
        "id": "JvR8aM7e9NDA"
      },
      "execution_count": null,
      "outputs": []
    },
    {
      "cell_type": "code",
      "source": [
        "!rm /content/X-VLM/4m_base_finetune/flickr8k_caption/lm_domain_pretrain.th"
      ],
      "metadata": {
        "id": "tBv-39bR-MY5"
      },
      "execution_count": null,
      "outputs": []
    },
    {
      "cell_type": "code",
      "source": [
        "! cp /content/drive/MyDrive/ImageCaptioning/model_state_epoch_4.th /content/X-VLM/4m_base_finetune/flickr8k_caption/"
      ],
      "metadata": {
        "id": "oY5fMzAH9T3O"
      },
      "execution_count": null,
      "outputs": []
    },
    {
      "cell_type": "code",
      "execution_count": null,
      "metadata": {
        "id": "wLf0CuMAL-eE"
      },
      "outputs": [],
      "source": [
        "!cp /content/X-VLM/output/flickr8k_captioning/result/test_epoch4.json /content/drive/MyDrive/ImageCaptioning/"
      ]
    },
    {
      "cell_type": "code",
      "source": [
        "bleu = []\n",
        "with open(\"/content/drive/MyDrive/ImageCaptioning/xvlm.txt\") as file:\n",
        "  for line in file:\n",
        "    line = line.split(\" \")\n",
        "    if len(line) > 1:\n",
        "      bleu.append(float(line[1][:-1]))"
      ],
      "metadata": {
        "id": "kFi1luPtP_HE"
      },
      "execution_count": null,
      "outputs": []
    },
    {
      "cell_type": "code",
      "source": [
        "bleu = bleu[0:15] + bleu[18:]"
      ],
      "metadata": {
        "id": "Q_gmbK1zXYPH"
      },
      "execution_count": null,
      "outputs": []
    },
    {
      "cell_type": "code",
      "source": [
        "from matplotlib import pyplot as plt  "
      ],
      "metadata": {
        "id": "pIiG3IQdXOhE"
      },
      "execution_count": null,
      "outputs": []
    },
    {
      "cell_type": "code",
      "source": [
        "fig, axs = plt.subplots(1, 1)\n",
        "fig.suptitle(\"Bleu metric on X-VLM with flickr8k dataset\") \n",
        "axs.plot(bleu)\n",
        "axs.set(xlabel='epoch', ylabel='bleu')\n",
        "plt.rcParams['figure.figsize'] = [10, 5]\n",
        "plt.show()"
      ],
      "metadata": {
        "colab": {
          "base_uri": "https://localhost:8080/",
          "height": 370
        },
        "id": "zaIKUTM-WrdD",
        "outputId": "b30d0627-ad30-4ba8-bf03-fb8ae8ea4305"
      },
      "execution_count": null,
      "outputs": [
        {
          "output_type": "display_data",
          "data": {
            "text/plain": [
              "<Figure size 720x360 with 1 Axes>"
            ],
            "image/png": "[encoded data removed]"
          },
          "metadata": {
            "needs_background": "light"
          }
        }
      ]
    },
    {
      "cell_type": "code",
      "source": [
        ""
      ],
      "metadata": {
        "id": "BwL9qmyvXSdV"
      },
      "execution_count": null,
      "outputs": []
    }
  ],
  "metadata": {
    "accelerator": "GPU",
    "colab": {
      "collapsed_sections": [],
      "machine_shape": "hm",
      "name": "X-VLM-flickr8k.ipynb",
      "provenance": []
    },
    "kernelspec": {
      "display_name": "Python 3",
      "name": "python3"
    },
    "language_info": {
      "name": "python"
    }
  },
  "nbformat": 4,
  "nbformat_minor": 0
}